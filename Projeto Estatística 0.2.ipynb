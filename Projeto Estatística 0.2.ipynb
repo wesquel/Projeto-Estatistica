{
 "cells": [
  {
   "cell_type": "markdown",
   "metadata": {},
   "source": [
    "### Bibliotecas"
   ]
  },
  {
   "cell_type": "code",
   "execution_count": 1,
   "metadata": {},
   "outputs": [],
   "source": [
    "import pandas as pd\n",
    "import matplotlib.pyplot as plt\n",
    "%matplotlib inline"
   ]
  },
  {
   "cell_type": "markdown",
   "metadata": {},
   "source": [
    "### Gastos De Deputados\n",
    "Iremos analisar os gastos dos deputados e partidos brasileiros entre os anos de 2009 e 2019 a partir de dados disponibilizados pelo Governo Federal.\n",
    "\n",
    "### Escopo Do Projeto\n",
    "•Neste projeto iremos fazer uma analise feral dos gastos, ou seja, gastos dos partidos, gastos por ano entre outros.\n",
    "\n",
    "•Assim poderemos ter uma noção de quanto é gasto anualmente por deputados e seus partidos."
   ]
  },
  {
   "cell_type": "markdown",
   "metadata": {},
   "source": [
    "### Leitura de todos os dados."
   ]
  },
  {
   "cell_type": "code",
   "execution_count": 2,
   "metadata": {},
   "outputs": [],
   "source": [
    "g2008 = pd.read_csv('projeto/Ano-2008.csv',sep = ';')\n",
    "g2009 = pd.read_csv('projeto/Ano-2009.csv',sep = ';')\n",
    "g2010 = pd.read_csv('projeto/Ano-2010.csv',sep = ';')\n",
    "g2011 = pd.read_csv('projeto/Ano-2011.csv',sep = ';')\n",
    "g2012 = pd.read_csv('projeto/Ano-2012.csv',sep = ';')\n",
    "g2013 = pd.read_csv('projeto/Ano-2013.csv',sep = ';')\n",
    "g2014 = pd.read_csv('projeto/Ano-2014.csv',sep = ';')\n",
    "g2015 = pd.read_csv('projeto/Ano-2015.csv',sep = ';')\n",
    "g2016 = pd.read_csv('projeto/Ano-2016.csv',sep = ';')\n",
    "g2017 = pd.read_csv('projeto/Ano-2017.csv',sep = ';')\n",
    "g2018 = pd.read_csv('projeto/Ano-2018.csv',sep = ';')\n",
    "g2019 = pd.read_csv('projeto/Ano-2019.csv',sep = ';')"
   ]
  },
  {
   "cell_type": "code",
   "execution_count": 3,
   "metadata": {},
   "outputs": [],
   "source": [
    "#Concatenando e filtrando somente os dados necessários.\n",
    "gAll = pd.concat([g2008,g2009,g2010,g2011,g2012,g2013,g2014,g2015,g2016,g2017,g2018,g2019], sort = False)"
   ]
  },
  {
   "cell_type": "code",
   "execution_count": 4,
   "metadata": {},
   "outputs": [],
   "source": [
    "filt = gAll.iloc[0:,[0,5,6,9,12,19,20,21]]"
   ]
  },
  {
   "cell_type": "code",
   "execution_count": 5,
   "metadata": {
    "scrolled": true
   },
   "outputs": [
    {
     "data": {
      "text/html": [
       "<div>\n",
       "<style scoped>\n",
       "    .dataframe tbody tr th:only-of-type {\n",
       "        vertical-align: middle;\n",
       "    }\n",
       "\n",
       "    .dataframe tbody tr th {\n",
       "        vertical-align: top;\n",
       "    }\n",
       "\n",
       "    .dataframe thead th {\n",
       "        text-align: right;\n",
       "    }\n",
       "</style>\n",
       "<table border=\"1\" class=\"dataframe\">\n",
       "  <thead>\n",
       "    <tr style=\"text-align: right;\">\n",
       "      <th></th>\n",
       "      <th>txNomeParlamentar</th>\n",
       "      <th>sgUF</th>\n",
       "      <th>sgPartido</th>\n",
       "      <th>txtDescricao</th>\n",
       "      <th>txtFornecedor</th>\n",
       "      <th>vlrLiquido</th>\n",
       "      <th>numMes</th>\n",
       "      <th>numAno</th>\n",
       "    </tr>\n",
       "  </thead>\n",
       "  <tbody>\n",
       "    <tr>\n",
       "      <td>0</td>\n",
       "      <td>JOSEPH BANDEIRA</td>\n",
       "      <td>BA</td>\n",
       "      <td>PT</td>\n",
       "      <td>LOCOMOÇÃO, ALIMENTAÇÃO E  HOSPEDAGEM</td>\n",
       "      <td>NACIONAL TRANSPORTES E LOGISTICA</td>\n",
       "      <td>3800.00</td>\n",
       "      <td>6</td>\n",
       "      <td>2008</td>\n",
       "    </tr>\n",
       "    <tr>\n",
       "      <td>1</td>\n",
       "      <td>JOSEPH BANDEIRA</td>\n",
       "      <td>BA</td>\n",
       "      <td>PT</td>\n",
       "      <td>LOCOMOÇÃO, ALIMENTAÇÃO E  HOSPEDAGEM</td>\n",
       "      <td>NTL - NACIONAL TRANSPORTES E LOGISTICA</td>\n",
       "      <td>6000.00</td>\n",
       "      <td>9</td>\n",
       "      <td>2008</td>\n",
       "    </tr>\n",
       "    <tr>\n",
       "      <td>2</td>\n",
       "      <td>SILVIO COSTA</td>\n",
       "      <td>PE</td>\n",
       "      <td>PTB</td>\n",
       "      <td>TELEFONIA</td>\n",
       "      <td>IMÓVEL FUNCIONAL</td>\n",
       "      <td>80.01</td>\n",
       "      <td>12</td>\n",
       "      <td>2008</td>\n",
       "    </tr>\n",
       "    <tr>\n",
       "      <td>3</td>\n",
       "      <td>ALDO REBELO</td>\n",
       "      <td>SP</td>\n",
       "      <td>PCdoB</td>\n",
       "      <td>TELEFONIA</td>\n",
       "      <td>IMÓVEL FUNCIONAL</td>\n",
       "      <td>372.55</td>\n",
       "      <td>12</td>\n",
       "      <td>2008</td>\n",
       "    </tr>\n",
       "    <tr>\n",
       "      <td>4</td>\n",
       "      <td>ANTONIO CARLOS PANNUNZIO</td>\n",
       "      <td>SP</td>\n",
       "      <td>PSDB</td>\n",
       "      <td>TELEFONIA</td>\n",
       "      <td>IMÓVEL FUNCIONAL</td>\n",
       "      <td>38.48</td>\n",
       "      <td>3</td>\n",
       "      <td>2008</td>\n",
       "    </tr>\n",
       "    <tr>\n",
       "      <td>...</td>\n",
       "      <td>...</td>\n",
       "      <td>...</td>\n",
       "      <td>...</td>\n",
       "      <td>...</td>\n",
       "      <td>...</td>\n",
       "      <td>...</td>\n",
       "      <td>...</td>\n",
       "      <td>...</td>\n",
       "    </tr>\n",
       "    <tr>\n",
       "      <td>145818</td>\n",
       "      <td>JOSEILDO RAMOS</td>\n",
       "      <td>BA</td>\n",
       "      <td>PT</td>\n",
       "      <td>Emissão Bilhete Aéreo</td>\n",
       "      <td>Cia Aérea - TAM</td>\n",
       "      <td>609.39</td>\n",
       "      <td>4</td>\n",
       "      <td>2019</td>\n",
       "    </tr>\n",
       "    <tr>\n",
       "      <td>145819</td>\n",
       "      <td>JOSEILDO RAMOS</td>\n",
       "      <td>BA</td>\n",
       "      <td>PT</td>\n",
       "      <td>Emissão Bilhete Aéreo</td>\n",
       "      <td>Cia Aérea - TAM</td>\n",
       "      <td>468.39</td>\n",
       "      <td>4</td>\n",
       "      <td>2019</td>\n",
       "    </tr>\n",
       "    <tr>\n",
       "      <td>145820</td>\n",
       "      <td>JOSEILDO RAMOS</td>\n",
       "      <td>BA</td>\n",
       "      <td>PT</td>\n",
       "      <td>Emissão Bilhete Aéreo</td>\n",
       "      <td>Cia Aérea - TAM</td>\n",
       "      <td>1000.39</td>\n",
       "      <td>4</td>\n",
       "      <td>2019</td>\n",
       "    </tr>\n",
       "    <tr>\n",
       "      <td>145821</td>\n",
       "      <td>JOSEILDO RAMOS</td>\n",
       "      <td>BA</td>\n",
       "      <td>PT</td>\n",
       "      <td>Emissão Bilhete Aéreo</td>\n",
       "      <td>Cia Aérea - TAM</td>\n",
       "      <td>209.00</td>\n",
       "      <td>4</td>\n",
       "      <td>2019</td>\n",
       "    </tr>\n",
       "    <tr>\n",
       "      <td>145822</td>\n",
       "      <td>JOSEILDO RAMOS</td>\n",
       "      <td>BA</td>\n",
       "      <td>PT</td>\n",
       "      <td>Emissão Bilhete Aéreo</td>\n",
       "      <td>Cia Aérea - TAM</td>\n",
       "      <td>665.49</td>\n",
       "      <td>5</td>\n",
       "      <td>2019</td>\n",
       "    </tr>\n",
       "  </tbody>\n",
       "</table>\n",
       "<p>3698411 rows × 8 columns</p>\n",
       "</div>"
      ],
      "text/plain": [
       "               txNomeParlamentar sgUF sgPartido  \\\n",
       "0                JOSEPH BANDEIRA   BA        PT   \n",
       "1                JOSEPH BANDEIRA   BA        PT   \n",
       "2                   SILVIO COSTA   PE       PTB   \n",
       "3                    ALDO REBELO   SP     PCdoB   \n",
       "4       ANTONIO CARLOS PANNUNZIO   SP      PSDB   \n",
       "...                          ...  ...       ...   \n",
       "145818            JOSEILDO RAMOS   BA        PT   \n",
       "145819            JOSEILDO RAMOS   BA        PT   \n",
       "145820            JOSEILDO RAMOS   BA        PT   \n",
       "145821            JOSEILDO RAMOS   BA        PT   \n",
       "145822            JOSEILDO RAMOS   BA        PT   \n",
       "\n",
       "                                txtDescricao  \\\n",
       "0       LOCOMOÇÃO, ALIMENTAÇÃO E  HOSPEDAGEM   \n",
       "1       LOCOMOÇÃO, ALIMENTAÇÃO E  HOSPEDAGEM   \n",
       "2                                  TELEFONIA   \n",
       "3                                  TELEFONIA   \n",
       "4                                  TELEFONIA   \n",
       "...                                      ...   \n",
       "145818                 Emissão Bilhete Aéreo   \n",
       "145819                 Emissão Bilhete Aéreo   \n",
       "145820                 Emissão Bilhete Aéreo   \n",
       "145821                 Emissão Bilhete Aéreo   \n",
       "145822                 Emissão Bilhete Aéreo   \n",
       "\n",
       "                                 txtFornecedor  vlrLiquido  numMes  numAno  \n",
       "0             NACIONAL TRANSPORTES E LOGISTICA     3800.00       6    2008  \n",
       "1       NTL - NACIONAL TRANSPORTES E LOGISTICA     6000.00       9    2008  \n",
       "2                             IMÓVEL FUNCIONAL       80.01      12    2008  \n",
       "3                             IMÓVEL FUNCIONAL      372.55      12    2008  \n",
       "4                             IMÓVEL FUNCIONAL       38.48       3    2008  \n",
       "...                                        ...         ...     ...     ...  \n",
       "145818                         Cia Aérea - TAM      609.39       4    2019  \n",
       "145819                         Cia Aérea - TAM      468.39       4    2019  \n",
       "145820                         Cia Aérea - TAM     1000.39       4    2019  \n",
       "145821                         Cia Aérea - TAM      209.00       4    2019  \n",
       "145822                         Cia Aérea - TAM      665.49       5    2019  \n",
       "\n",
       "[3698411 rows x 8 columns]"
      ]
     },
     "execution_count": 5,
     "metadata": {},
     "output_type": "execute_result"
    }
   ],
   "source": [
    "filt"
   ]
  },
  {
   "cell_type": "markdown",
   "metadata": {},
   "source": [
    "### Removendo os dados faltosos da coluna dos \"Partidos\"."
   ]
  },
  {
   "cell_type": "code",
   "execution_count": 6,
   "metadata": {
    "scrolled": true
   },
   "outputs": [
    {
     "data": {
      "text/html": [
       "<div>\n",
       "<style scoped>\n",
       "    .dataframe tbody tr th:only-of-type {\n",
       "        vertical-align: middle;\n",
       "    }\n",
       "\n",
       "    .dataframe tbody tr th {\n",
       "        vertical-align: top;\n",
       "    }\n",
       "\n",
       "    .dataframe thead th {\n",
       "        text-align: right;\n",
       "    }\n",
       "</style>\n",
       "<table border=\"1\" class=\"dataframe\">\n",
       "  <thead>\n",
       "    <tr style=\"text-align: right;\">\n",
       "      <th></th>\n",
       "      <th>txNomeParlamentar</th>\n",
       "      <th>sgUF</th>\n",
       "      <th>sgPartido</th>\n",
       "      <th>txtDescricao</th>\n",
       "      <th>txtFornecedor</th>\n",
       "      <th>vlrLiquido</th>\n",
       "      <th>numMes</th>\n",
       "      <th>numAno</th>\n",
       "    </tr>\n",
       "  </thead>\n",
       "  <tbody>\n",
       "    <tr>\n",
       "      <td>0</td>\n",
       "      <td>JOSEPH BANDEIRA</td>\n",
       "      <td>BA</td>\n",
       "      <td>PT</td>\n",
       "      <td>LOCOMOÇÃO, ALIMENTAÇÃO E  HOSPEDAGEM</td>\n",
       "      <td>NACIONAL TRANSPORTES E LOGISTICA</td>\n",
       "      <td>3800.00</td>\n",
       "      <td>6</td>\n",
       "      <td>2008</td>\n",
       "    </tr>\n",
       "    <tr>\n",
       "      <td>1</td>\n",
       "      <td>JOSEPH BANDEIRA</td>\n",
       "      <td>BA</td>\n",
       "      <td>PT</td>\n",
       "      <td>LOCOMOÇÃO, ALIMENTAÇÃO E  HOSPEDAGEM</td>\n",
       "      <td>NTL - NACIONAL TRANSPORTES E LOGISTICA</td>\n",
       "      <td>6000.00</td>\n",
       "      <td>9</td>\n",
       "      <td>2008</td>\n",
       "    </tr>\n",
       "    <tr>\n",
       "      <td>2</td>\n",
       "      <td>SILVIO COSTA</td>\n",
       "      <td>PE</td>\n",
       "      <td>PTB</td>\n",
       "      <td>TELEFONIA</td>\n",
       "      <td>IMÓVEL FUNCIONAL</td>\n",
       "      <td>80.01</td>\n",
       "      <td>12</td>\n",
       "      <td>2008</td>\n",
       "    </tr>\n",
       "    <tr>\n",
       "      <td>3</td>\n",
       "      <td>ALDO REBELO</td>\n",
       "      <td>SP</td>\n",
       "      <td>PCdoB</td>\n",
       "      <td>TELEFONIA</td>\n",
       "      <td>IMÓVEL FUNCIONAL</td>\n",
       "      <td>372.55</td>\n",
       "      <td>12</td>\n",
       "      <td>2008</td>\n",
       "    </tr>\n",
       "    <tr>\n",
       "      <td>4</td>\n",
       "      <td>ANTONIO CARLOS PANNUNZIO</td>\n",
       "      <td>SP</td>\n",
       "      <td>PSDB</td>\n",
       "      <td>TELEFONIA</td>\n",
       "      <td>IMÓVEL FUNCIONAL</td>\n",
       "      <td>38.48</td>\n",
       "      <td>3</td>\n",
       "      <td>2008</td>\n",
       "    </tr>\n",
       "    <tr>\n",
       "      <td>...</td>\n",
       "      <td>...</td>\n",
       "      <td>...</td>\n",
       "      <td>...</td>\n",
       "      <td>...</td>\n",
       "      <td>...</td>\n",
       "      <td>...</td>\n",
       "      <td>...</td>\n",
       "      <td>...</td>\n",
       "    </tr>\n",
       "    <tr>\n",
       "      <td>145818</td>\n",
       "      <td>JOSEILDO RAMOS</td>\n",
       "      <td>BA</td>\n",
       "      <td>PT</td>\n",
       "      <td>Emissão Bilhete Aéreo</td>\n",
       "      <td>Cia Aérea - TAM</td>\n",
       "      <td>609.39</td>\n",
       "      <td>4</td>\n",
       "      <td>2019</td>\n",
       "    </tr>\n",
       "    <tr>\n",
       "      <td>145819</td>\n",
       "      <td>JOSEILDO RAMOS</td>\n",
       "      <td>BA</td>\n",
       "      <td>PT</td>\n",
       "      <td>Emissão Bilhete Aéreo</td>\n",
       "      <td>Cia Aérea - TAM</td>\n",
       "      <td>468.39</td>\n",
       "      <td>4</td>\n",
       "      <td>2019</td>\n",
       "    </tr>\n",
       "    <tr>\n",
       "      <td>145820</td>\n",
       "      <td>JOSEILDO RAMOS</td>\n",
       "      <td>BA</td>\n",
       "      <td>PT</td>\n",
       "      <td>Emissão Bilhete Aéreo</td>\n",
       "      <td>Cia Aérea - TAM</td>\n",
       "      <td>1000.39</td>\n",
       "      <td>4</td>\n",
       "      <td>2019</td>\n",
       "    </tr>\n",
       "    <tr>\n",
       "      <td>145821</td>\n",
       "      <td>JOSEILDO RAMOS</td>\n",
       "      <td>BA</td>\n",
       "      <td>PT</td>\n",
       "      <td>Emissão Bilhete Aéreo</td>\n",
       "      <td>Cia Aérea - TAM</td>\n",
       "      <td>209.00</td>\n",
       "      <td>4</td>\n",
       "      <td>2019</td>\n",
       "    </tr>\n",
       "    <tr>\n",
       "      <td>145822</td>\n",
       "      <td>JOSEILDO RAMOS</td>\n",
       "      <td>BA</td>\n",
       "      <td>PT</td>\n",
       "      <td>Emissão Bilhete Aéreo</td>\n",
       "      <td>Cia Aérea - TAM</td>\n",
       "      <td>665.49</td>\n",
       "      <td>5</td>\n",
       "      <td>2019</td>\n",
       "    </tr>\n",
       "  </tbody>\n",
       "</table>\n",
       "<p>3698411 rows × 8 columns</p>\n",
       "</div>"
      ],
      "text/plain": [
       "               txNomeParlamentar sgUF sgPartido  \\\n",
       "0                JOSEPH BANDEIRA   BA        PT   \n",
       "1                JOSEPH BANDEIRA   BA        PT   \n",
       "2                   SILVIO COSTA   PE       PTB   \n",
       "3                    ALDO REBELO   SP     PCdoB   \n",
       "4       ANTONIO CARLOS PANNUNZIO   SP      PSDB   \n",
       "...                          ...  ...       ...   \n",
       "145818            JOSEILDO RAMOS   BA        PT   \n",
       "145819            JOSEILDO RAMOS   BA        PT   \n",
       "145820            JOSEILDO RAMOS   BA        PT   \n",
       "145821            JOSEILDO RAMOS   BA        PT   \n",
       "145822            JOSEILDO RAMOS   BA        PT   \n",
       "\n",
       "                                txtDescricao  \\\n",
       "0       LOCOMOÇÃO, ALIMENTAÇÃO E  HOSPEDAGEM   \n",
       "1       LOCOMOÇÃO, ALIMENTAÇÃO E  HOSPEDAGEM   \n",
       "2                                  TELEFONIA   \n",
       "3                                  TELEFONIA   \n",
       "4                                  TELEFONIA   \n",
       "...                                      ...   \n",
       "145818                 Emissão Bilhete Aéreo   \n",
       "145819                 Emissão Bilhete Aéreo   \n",
       "145820                 Emissão Bilhete Aéreo   \n",
       "145821                 Emissão Bilhete Aéreo   \n",
       "145822                 Emissão Bilhete Aéreo   \n",
       "\n",
       "                                 txtFornecedor  vlrLiquido  numMes  numAno  \n",
       "0             NACIONAL TRANSPORTES E LOGISTICA     3800.00       6    2008  \n",
       "1       NTL - NACIONAL TRANSPORTES E LOGISTICA     6000.00       9    2008  \n",
       "2                             IMÓVEL FUNCIONAL       80.01      12    2008  \n",
       "3                             IMÓVEL FUNCIONAL      372.55      12    2008  \n",
       "4                             IMÓVEL FUNCIONAL       38.48       3    2008  \n",
       "...                                        ...         ...     ...     ...  \n",
       "145818                         Cia Aérea - TAM      609.39       4    2019  \n",
       "145819                         Cia Aérea - TAM      468.39       4    2019  \n",
       "145820                         Cia Aérea - TAM     1000.39       4    2019  \n",
       "145821                         Cia Aérea - TAM      209.00       4    2019  \n",
       "145822                         Cia Aérea - TAM      665.49       5    2019  \n",
       "\n",
       "[3698411 rows x 8 columns]"
      ]
     },
     "execution_count": 6,
     "metadata": {},
     "output_type": "execute_result"
    }
   ],
   "source": [
    "filt.update(filt['sgPartido'].fillna('test'))\n",
    "filt"
   ]
  },
  {
   "cell_type": "markdown",
   "metadata": {},
   "source": [
    "### Coletando todos os partidos dos e adicionando a uma lista."
   ]
  },
  {
   "cell_type": "code",
   "execution_count": 7,
   "metadata": {},
   "outputs": [],
   "source": [
    "partidos = []\n",
    "for x in filt['sgPartido']:\n",
    "    check = True\n",
    "    for y in range(len(partidos)):\n",
    "        if x == partidos[y]:\n",
    "            check = False\n",
    "    if (check == True):\n",
    "        partidos.append(x)"
   ]
  },
  {
   "cell_type": "markdown",
   "metadata": {},
   "source": [
    "#### Separando por partidos."
   ]
  },
  {
   "cell_type": "code",
   "execution_count": 8,
   "metadata": {
    "scrolled": true
   },
   "outputs": [
    {
     "data": {
      "text/html": [
       "<div>\n",
       "<style scoped>\n",
       "    .dataframe tbody tr th:only-of-type {\n",
       "        vertical-align: middle;\n",
       "    }\n",
       "\n",
       "    .dataframe tbody tr th {\n",
       "        vertical-align: top;\n",
       "    }\n",
       "\n",
       "    .dataframe thead th {\n",
       "        text-align: right;\n",
       "    }\n",
       "</style>\n",
       "<table border=\"1\" class=\"dataframe\">\n",
       "  <thead>\n",
       "    <tr style=\"text-align: right;\">\n",
       "      <th></th>\n",
       "      <th>txNomeParlamentar</th>\n",
       "      <th>sgUF</th>\n",
       "      <th>txtDescricao</th>\n",
       "      <th>txtFornecedor</th>\n",
       "      <th>vlrLiquido</th>\n",
       "      <th>numMes</th>\n",
       "      <th>numAno</th>\n",
       "    </tr>\n",
       "    <tr>\n",
       "      <th>sgPartido</th>\n",
       "      <th></th>\n",
       "      <th></th>\n",
       "      <th></th>\n",
       "      <th></th>\n",
       "      <th></th>\n",
       "      <th></th>\n",
       "      <th></th>\n",
       "    </tr>\n",
       "  </thead>\n",
       "  <tbody>\n",
       "    <tr>\n",
       "      <td>AVANTE</td>\n",
       "      <td>LUIS TIBÉ</td>\n",
       "      <td>MG</td>\n",
       "      <td>TELEFONIA</td>\n",
       "      <td>TNL PCS S.A</td>\n",
       "      <td>306.03</td>\n",
       "      <td>1</td>\n",
       "      <td>2011</td>\n",
       "    </tr>\n",
       "    <tr>\n",
       "      <td>CIDADANIA</td>\n",
       "      <td>RUBENS BUENO</td>\n",
       "      <td>PR</td>\n",
       "      <td>PASSAGENS AÉREAS</td>\n",
       "      <td>GOL LINHAS AÉREAS INTELIGENTES</td>\n",
       "      <td>368.62</td>\n",
       "      <td>1</td>\n",
       "      <td>2011</td>\n",
       "    </tr>\n",
       "    <tr>\n",
       "      <td>DEM</td>\n",
       "      <td>JORGE TADEU MUDALEN</td>\n",
       "      <td>SP</td>\n",
       "      <td>TELEFONIA</td>\n",
       "      <td>IMÓVEL FUNCIONAL</td>\n",
       "      <td>22.85</td>\n",
       "      <td>12</td>\n",
       "      <td>2008</td>\n",
       "    </tr>\n",
       "    <tr>\n",
       "      <td>MDB</td>\n",
       "      <td>MARIA HELENA</td>\n",
       "      <td>RR</td>\n",
       "      <td>TELEFONIA</td>\n",
       "      <td>CELULAR FUNCIONAL</td>\n",
       "      <td>135.74</td>\n",
       "      <td>2</td>\n",
       "      <td>2011</td>\n",
       "    </tr>\n",
       "    <tr>\n",
       "      <td>NOVO</td>\n",
       "      <td>MARCEL VAN HATTEM</td>\n",
       "      <td>RS</td>\n",
       "      <td>MANUTENÇÃO DE ESCRITÓRIO DE APOIO À ATIVIDADE ...</td>\n",
       "      <td>BELLER COMERCIO DE PAPEIS LTDA</td>\n",
       "      <td>37.71</td>\n",
       "      <td>4</td>\n",
       "      <td>2019</td>\n",
       "    </tr>\n",
       "    <tr>\n",
       "      <td>PATRI</td>\n",
       "      <td>ERIVELTON SANTANA</td>\n",
       "      <td>BA</td>\n",
       "      <td>PASSAGENS AÉREAS</td>\n",
       "      <td>TAM LINHAS AREAS S/A</td>\n",
       "      <td>372.72</td>\n",
       "      <td>1</td>\n",
       "      <td>2011</td>\n",
       "    </tr>\n",
       "    <tr>\n",
       "      <td>PATRIOTA</td>\n",
       "      <td>PASTOR EURICO</td>\n",
       "      <td>PE</td>\n",
       "      <td>PASSAGENS AÉREAS</td>\n",
       "      <td>TAM - LINHAS AÉREAS S/A</td>\n",
       "      <td>846.00</td>\n",
       "      <td>1</td>\n",
       "      <td>2011</td>\n",
       "    </tr>\n",
       "    <tr>\n",
       "      <td>PCdoB</td>\n",
       "      <td>ALDO REBELO</td>\n",
       "      <td>SP</td>\n",
       "      <td>TELEFONIA</td>\n",
       "      <td>IMÓVEL FUNCIONAL</td>\n",
       "      <td>372.55</td>\n",
       "      <td>12</td>\n",
       "      <td>2008</td>\n",
       "    </tr>\n",
       "    <tr>\n",
       "      <td>PDT</td>\n",
       "      <td>JOSÉ CARLOS ARAÚJO</td>\n",
       "      <td>BA</td>\n",
       "      <td>TELEFONIA</td>\n",
       "      <td>IMÓVEL FUNCIONAL</td>\n",
       "      <td>142.88</td>\n",
       "      <td>12</td>\n",
       "      <td>2008</td>\n",
       "    </tr>\n",
       "    <tr>\n",
       "      <td>PEN</td>\n",
       "      <td>NILMAR RUIZ</td>\n",
       "      <td>TO</td>\n",
       "      <td>MANUTENÇÃO DE ESCRITÓRIO DE APOIO À ATIVIDADE ...</td>\n",
       "      <td>WM COMÉRCIO DE ARTIGOS DE PAPELARIA LTDA-ME</td>\n",
       "      <td>154.50</td>\n",
       "      <td>6</td>\n",
       "      <td>2013</td>\n",
       "    </tr>\n",
       "    <tr>\n",
       "      <td>PHS</td>\n",
       "      <td>MIGUEL MARTINI</td>\n",
       "      <td>MG</td>\n",
       "      <td>TELEFONIA</td>\n",
       "      <td>IMÓVEL FUNCIONAL</td>\n",
       "      <td>0.75</td>\n",
       "      <td>12</td>\n",
       "      <td>2008</td>\n",
       "    </tr>\n",
       "    <tr>\n",
       "      <td>PL</td>\n",
       "      <td>PAULO FREIRE COSTA</td>\n",
       "      <td>SP</td>\n",
       "      <td>PASSAGENS AÉREAS</td>\n",
       "      <td>VRG LINHAS AEREAS S.A</td>\n",
       "      <td>487.32</td>\n",
       "      <td>1</td>\n",
       "      <td>2011</td>\n",
       "    </tr>\n",
       "    <tr>\n",
       "      <td>PMDB</td>\n",
       "      <td>WALDEMIR MOKA</td>\n",
       "      <td>MS</td>\n",
       "      <td>TELEFONIA</td>\n",
       "      <td>IMÓVEL FUNCIONAL</td>\n",
       "      <td>220.46</td>\n",
       "      <td>12</td>\n",
       "      <td>2008</td>\n",
       "    </tr>\n",
       "    <tr>\n",
       "      <td>PMN</td>\n",
       "      <td>FRANCISCO TENÓRIO</td>\n",
       "      <td>AL</td>\n",
       "      <td>TELEFONIA</td>\n",
       "      <td>IMÓVEL FUNCIONAL</td>\n",
       "      <td>772.17</td>\n",
       "      <td>12</td>\n",
       "      <td>2008</td>\n",
       "    </tr>\n",
       "    <tr>\n",
       "      <td>PODE</td>\n",
       "      <td>MARCELO ORTIZ</td>\n",
       "      <td>SP</td>\n",
       "      <td>TELEFONIA</td>\n",
       "      <td>CELULAR FUNCIONAL</td>\n",
       "      <td>98.23</td>\n",
       "      <td>2</td>\n",
       "      <td>2011</td>\n",
       "    </tr>\n",
       "    <tr>\n",
       "      <td>PP</td>\n",
       "      <td>ODELMO LEÃO</td>\n",
       "      <td>MG</td>\n",
       "      <td>Emissão Bilhete Aéreo</td>\n",
       "      <td>Cia Aérea - GOL</td>\n",
       "      <td>329.62</td>\n",
       "      <td>10</td>\n",
       "      <td>2009</td>\n",
       "    </tr>\n",
       "    <tr>\n",
       "      <td>PP**</td>\n",
       "      <td>CELSO RUSSOMANNO</td>\n",
       "      <td>SP</td>\n",
       "      <td>COMBUSTÍVEIS E LUBRIFICANTES.</td>\n",
       "      <td>LAVACRED</td>\n",
       "      <td>156.01</td>\n",
       "      <td>11</td>\n",
       "      <td>2008</td>\n",
       "    </tr>\n",
       "    <tr>\n",
       "      <td>PPL</td>\n",
       "      <td>ULDURICO JUNIOR</td>\n",
       "      <td>BA</td>\n",
       "      <td>MANUTENÇÃO DE ESCRITÓRIO DE APOIO À ATIVIDADE ...</td>\n",
       "      <td>WMS Comércio de Artigos de Papelaria LTDA</td>\n",
       "      <td>385.10</td>\n",
       "      <td>2</td>\n",
       "      <td>2015</td>\n",
       "    </tr>\n",
       "    <tr>\n",
       "      <td>PPS</td>\n",
       "      <td>CEZAR SILVESTRI</td>\n",
       "      <td>PR</td>\n",
       "      <td>TELEFONIA</td>\n",
       "      <td>IMÓVEL FUNCIONAL</td>\n",
       "      <td>79.91</td>\n",
       "      <td>12</td>\n",
       "      <td>2008</td>\n",
       "    </tr>\n",
       "    <tr>\n",
       "      <td>PR</td>\n",
       "      <td>AIRTON ROVEDA</td>\n",
       "      <td>PR</td>\n",
       "      <td>TELEFONIA</td>\n",
       "      <td>IMÓVEL FUNCIONAL</td>\n",
       "      <td>171.43</td>\n",
       "      <td>12</td>\n",
       "      <td>2008</td>\n",
       "    </tr>\n",
       "    <tr>\n",
       "      <td>PRB</td>\n",
       "      <td>GEORGE HILTON</td>\n",
       "      <td>MG</td>\n",
       "      <td>TELEFONIA</td>\n",
       "      <td>IMÓVEL FUNCIONAL</td>\n",
       "      <td>9.65</td>\n",
       "      <td>12</td>\n",
       "      <td>2008</td>\n",
       "    </tr>\n",
       "    <tr>\n",
       "      <td>PROS</td>\n",
       "      <td>SALVADOR ZIMBALDI</td>\n",
       "      <td>SP</td>\n",
       "      <td>MANUTENÇÃO DE ESCRITÓRIO DE APOIO À ATIVIDADE ...</td>\n",
       "      <td>CENTRO EMPRESARIAL CASTELO</td>\n",
       "      <td>679.08</td>\n",
       "      <td>8</td>\n",
       "      <td>2011</td>\n",
       "    </tr>\n",
       "    <tr>\n",
       "      <td>PRP</td>\n",
       "      <td>CHICO DAS VERDURAS</td>\n",
       "      <td>RR</td>\n",
       "      <td>MANUTENÇÃO DE ESCRITÓRIO DE APOIO À ATIVIDADE ...</td>\n",
       "      <td>CARIMBOS BRASIL LTDA. ME</td>\n",
       "      <td>60.00</td>\n",
       "      <td>2</td>\n",
       "      <td>2011</td>\n",
       "    </tr>\n",
       "    <tr>\n",
       "      <td>PRTB</td>\n",
       "      <td>JUVENIL</td>\n",
       "      <td>MG</td>\n",
       "      <td>TELEFONIA</td>\n",
       "      <td>IMÓVEL FUNCIONAL</td>\n",
       "      <td>176.50</td>\n",
       "      <td>3</td>\n",
       "      <td>2009</td>\n",
       "    </tr>\n",
       "    <tr>\n",
       "      <td>PSB</td>\n",
       "      <td>JÚLIO DELGADO</td>\n",
       "      <td>MG</td>\n",
       "      <td>TELEFONIA</td>\n",
       "      <td>IMÓVEL FUNCIONAL</td>\n",
       "      <td>139.91</td>\n",
       "      <td>12</td>\n",
       "      <td>2008</td>\n",
       "    </tr>\n",
       "    <tr>\n",
       "      <td>PSC</td>\n",
       "      <td>RÉGIS DE OLIVEIRA</td>\n",
       "      <td>SP</td>\n",
       "      <td>TELEFONIA</td>\n",
       "      <td>IMÓVEL FUNCIONAL</td>\n",
       "      <td>263.79</td>\n",
       "      <td>12</td>\n",
       "      <td>2008</td>\n",
       "    </tr>\n",
       "    <tr>\n",
       "      <td>PSD</td>\n",
       "      <td>VILMAR ROCHA</td>\n",
       "      <td>GO</td>\n",
       "      <td>TELEFONIA</td>\n",
       "      <td>RAMAL</td>\n",
       "      <td>106.38</td>\n",
       "      <td>2</td>\n",
       "      <td>2011</td>\n",
       "    </tr>\n",
       "    <tr>\n",
       "      <td>PSDB</td>\n",
       "      <td>ANTONIO CARLOS PANNUNZIO</td>\n",
       "      <td>SP</td>\n",
       "      <td>TELEFONIA</td>\n",
       "      <td>IMÓVEL FUNCIONAL</td>\n",
       "      <td>38.48</td>\n",
       "      <td>3</td>\n",
       "      <td>2008</td>\n",
       "    </tr>\n",
       "    <tr>\n",
       "      <td>PSDC</td>\n",
       "      <td>DUDU LUIZ EDUARDO</td>\n",
       "      <td>RJ</td>\n",
       "      <td>MANUTENÇÃO DE ESCRITÓRIO DE APOIO À ATIVIDADE ...</td>\n",
       "      <td>KALUNGA COMERCIO E INDUSTRIA GRAFICA LTDA</td>\n",
       "      <td>736.00</td>\n",
       "      <td>8</td>\n",
       "      <td>2014</td>\n",
       "    </tr>\n",
       "    <tr>\n",
       "      <td>PSL</td>\n",
       "      <td>CARLOS MANATO</td>\n",
       "      <td>ES</td>\n",
       "      <td>MANUTENÇÃO DE ESCRITÓRIO DE APOIO À ATIVIDADE ...</td>\n",
       "      <td>ATACADO SÃO PAULO LTDA</td>\n",
       "      <td>493.24</td>\n",
       "      <td>3</td>\n",
       "      <td>2015</td>\n",
       "    </tr>\n",
       "    <tr>\n",
       "      <td>PSOL</td>\n",
       "      <td>IVAN VALENTE</td>\n",
       "      <td>SP</td>\n",
       "      <td>MANUTENÇÃO DE ESCRITÓRIO DE APOIO À ATIVIDADE ...</td>\n",
       "      <td>BAZAR M NORTE</td>\n",
       "      <td>81.50</td>\n",
       "      <td>8</td>\n",
       "      <td>2009</td>\n",
       "    </tr>\n",
       "    <tr>\n",
       "      <td>PT</td>\n",
       "      <td>JOSEPH BANDEIRA</td>\n",
       "      <td>BA</td>\n",
       "      <td>LOCOMOÇÃO, ALIMENTAÇÃO E  HOSPEDAGEM</td>\n",
       "      <td>NACIONAL TRANSPORTES E LOGISTICA</td>\n",
       "      <td>3800.00</td>\n",
       "      <td>6</td>\n",
       "      <td>2008</td>\n",
       "    </tr>\n",
       "    <tr>\n",
       "      <td>PTB</td>\n",
       "      <td>SILVIO COSTA</td>\n",
       "      <td>PE</td>\n",
       "      <td>TELEFONIA</td>\n",
       "      <td>IMÓVEL FUNCIONAL</td>\n",
       "      <td>80.01</td>\n",
       "      <td>12</td>\n",
       "      <td>2008</td>\n",
       "    </tr>\n",
       "    <tr>\n",
       "      <td>PTC</td>\n",
       "      <td>CARLOS WILLIAN</td>\n",
       "      <td>MG</td>\n",
       "      <td>LOCOMOÇÃO, ALIMENTAÇÃO E  HOSPEDAGEM</td>\n",
       "      <td>GEODIDATICA  INDUSTRIA E COMERCIO LTDA - ME</td>\n",
       "      <td>7004.76</td>\n",
       "      <td>12</td>\n",
       "      <td>2008</td>\n",
       "    </tr>\n",
       "    <tr>\n",
       "      <td>PTdoB</td>\n",
       "      <td>VINICIUS CARVALHO</td>\n",
       "      <td>SP</td>\n",
       "      <td>TELEFONIA</td>\n",
       "      <td>IMÓVEL FUNCIONAL</td>\n",
       "      <td>477.64</td>\n",
       "      <td>12</td>\n",
       "      <td>2008</td>\n",
       "    </tr>\n",
       "    <tr>\n",
       "      <td>PV</td>\n",
       "      <td>MARCELO ORTIZ</td>\n",
       "      <td>SP</td>\n",
       "      <td>LOCOMOÇÃO, ALIMENTAÇÃO E  HOSPEDAGEM</td>\n",
       "      <td>HIBISCO</td>\n",
       "      <td>11.90</td>\n",
       "      <td>11</td>\n",
       "      <td>2008</td>\n",
       "    </tr>\n",
       "    <tr>\n",
       "      <td>REDE</td>\n",
       "      <td>MIRO TEIXEIRA</td>\n",
       "      <td>RJ</td>\n",
       "      <td>TELEFONIA</td>\n",
       "      <td>IMÓVEL FUNCIONAL</td>\n",
       "      <td>36.45</td>\n",
       "      <td>2</td>\n",
       "      <td>2015</td>\n",
       "    </tr>\n",
       "    <tr>\n",
       "      <td>REPUBLICANOS</td>\n",
       "      <td>CELSO RUSSOMANNO</td>\n",
       "      <td>SP</td>\n",
       "      <td>TELEFONIA</td>\n",
       "      <td>CELULAR FUNCIONAL</td>\n",
       "      <td>291.21</td>\n",
       "      <td>2</td>\n",
       "      <td>2011</td>\n",
       "    </tr>\n",
       "    <tr>\n",
       "      <td>S.PART.</td>\n",
       "      <td>NATAN DONADON</td>\n",
       "      <td>RO</td>\n",
       "      <td>MANUTENÇÃO DE ESCRITÓRIO DE APOIO À ATIVIDADE ...</td>\n",
       "      <td>CENTRAIS ELÉTRICAS DE RONDONIA</td>\n",
       "      <td>22.63</td>\n",
       "      <td>5</td>\n",
       "      <td>2011</td>\n",
       "    </tr>\n",
       "    <tr>\n",
       "      <td>SD</td>\n",
       "      <td>HENRIQUE OLIVEIRA</td>\n",
       "      <td>AM</td>\n",
       "      <td>MANUTENÇÃO DE ESCRITÓRIO DE APOIO À ATIVIDADE ...</td>\n",
       "      <td>DIMAS VILELA DE OLIVEIRA JUNIOR</td>\n",
       "      <td>4000.00</td>\n",
       "      <td>4</td>\n",
       "      <td>2011</td>\n",
       "    </tr>\n",
       "    <tr>\n",
       "      <td>SOLIDARIEDADE</td>\n",
       "      <td>AUGUSTO COUTINHO</td>\n",
       "      <td>PE</td>\n",
       "      <td>PASSAGENS AÉREAS</td>\n",
       "      <td>TAM</td>\n",
       "      <td>1284.44</td>\n",
       "      <td>1</td>\n",
       "      <td>2011</td>\n",
       "    </tr>\n",
       "    <tr>\n",
       "      <td>test</td>\n",
       "      <td>ATHOS AVELINO</td>\n",
       "      <td>NaN</td>\n",
       "      <td>Emissão Bilhete Aéreo</td>\n",
       "      <td>Cia Aérea - GOL</td>\n",
       "      <td>-334.42</td>\n",
       "      <td>7</td>\n",
       "      <td>2009</td>\n",
       "    </tr>\n",
       "  </tbody>\n",
       "</table>\n",
       "</div>"
      ],
      "text/plain": [
       "                      txNomeParlamentar sgUF  \\\n",
       "sgPartido                                      \n",
       "AVANTE                        LUIS TIBÉ   MG   \n",
       "CIDADANIA                  RUBENS BUENO   PR   \n",
       "DEM                 JORGE TADEU MUDALEN   SP   \n",
       "MDB                        MARIA HELENA   RR   \n",
       "NOVO                  MARCEL VAN HATTEM   RS   \n",
       "PATRI                 ERIVELTON SANTANA   BA   \n",
       "PATRIOTA                  PASTOR EURICO   PE   \n",
       "PCdoB                       ALDO REBELO   SP   \n",
       "PDT                  JOSÉ CARLOS ARAÚJO   BA   \n",
       "PEN                         NILMAR RUIZ   TO   \n",
       "PHS                      MIGUEL MARTINI   MG   \n",
       "PL                   PAULO FREIRE COSTA   SP   \n",
       "PMDB                      WALDEMIR MOKA   MS   \n",
       "PMN                   FRANCISCO TENÓRIO   AL   \n",
       "PODE                      MARCELO ORTIZ   SP   \n",
       "PP                          ODELMO LEÃO   MG   \n",
       "PP**                   CELSO RUSSOMANNO   SP   \n",
       "PPL                     ULDURICO JUNIOR   BA   \n",
       "PPS                     CEZAR SILVESTRI   PR   \n",
       "PR                        AIRTON ROVEDA   PR   \n",
       "PRB                       GEORGE HILTON   MG   \n",
       "PROS                  SALVADOR ZIMBALDI   SP   \n",
       "PRP                  CHICO DAS VERDURAS   RR   \n",
       "PRTB                            JUVENIL   MG   \n",
       "PSB                       JÚLIO DELGADO   MG   \n",
       "PSC                   RÉGIS DE OLIVEIRA   SP   \n",
       "PSD                        VILMAR ROCHA   GO   \n",
       "PSDB           ANTONIO CARLOS PANNUNZIO   SP   \n",
       "PSDC                  DUDU LUIZ EDUARDO   RJ   \n",
       "PSL                       CARLOS MANATO   ES   \n",
       "PSOL                       IVAN VALENTE   SP   \n",
       "PT                      JOSEPH BANDEIRA   BA   \n",
       "PTB                        SILVIO COSTA   PE   \n",
       "PTC                      CARLOS WILLIAN   MG   \n",
       "PTdoB                 VINICIUS CARVALHO   SP   \n",
       "PV                        MARCELO ORTIZ   SP   \n",
       "REDE                      MIRO TEIXEIRA   RJ   \n",
       "REPUBLICANOS           CELSO RUSSOMANNO   SP   \n",
       "S.PART.                   NATAN DONADON   RO   \n",
       "SD                    HENRIQUE OLIVEIRA   AM   \n",
       "SOLIDARIEDADE          AUGUSTO COUTINHO   PE   \n",
       "test                      ATHOS AVELINO  NaN   \n",
       "\n",
       "                                                    txtDescricao  \\\n",
       "sgPartido                                                          \n",
       "AVANTE                                                 TELEFONIA   \n",
       "CIDADANIA                                       PASSAGENS AÉREAS   \n",
       "DEM                                                    TELEFONIA   \n",
       "MDB                                                    TELEFONIA   \n",
       "NOVO           MANUTENÇÃO DE ESCRITÓRIO DE APOIO À ATIVIDADE ...   \n",
       "PATRI                                           PASSAGENS AÉREAS   \n",
       "PATRIOTA                                        PASSAGENS AÉREAS   \n",
       "PCdoB                                                  TELEFONIA   \n",
       "PDT                                                    TELEFONIA   \n",
       "PEN            MANUTENÇÃO DE ESCRITÓRIO DE APOIO À ATIVIDADE ...   \n",
       "PHS                                                    TELEFONIA   \n",
       "PL                                              PASSAGENS AÉREAS   \n",
       "PMDB                                                   TELEFONIA   \n",
       "PMN                                                    TELEFONIA   \n",
       "PODE                                                   TELEFONIA   \n",
       "PP                                         Emissão Bilhete Aéreo   \n",
       "PP**                               COMBUSTÍVEIS E LUBRIFICANTES.   \n",
       "PPL            MANUTENÇÃO DE ESCRITÓRIO DE APOIO À ATIVIDADE ...   \n",
       "PPS                                                    TELEFONIA   \n",
       "PR                                                     TELEFONIA   \n",
       "PRB                                                    TELEFONIA   \n",
       "PROS           MANUTENÇÃO DE ESCRITÓRIO DE APOIO À ATIVIDADE ...   \n",
       "PRP            MANUTENÇÃO DE ESCRITÓRIO DE APOIO À ATIVIDADE ...   \n",
       "PRTB                                                   TELEFONIA   \n",
       "PSB                                                    TELEFONIA   \n",
       "PSC                                                    TELEFONIA   \n",
       "PSD                                                    TELEFONIA   \n",
       "PSDB                                                   TELEFONIA   \n",
       "PSDC           MANUTENÇÃO DE ESCRITÓRIO DE APOIO À ATIVIDADE ...   \n",
       "PSL            MANUTENÇÃO DE ESCRITÓRIO DE APOIO À ATIVIDADE ...   \n",
       "PSOL           MANUTENÇÃO DE ESCRITÓRIO DE APOIO À ATIVIDADE ...   \n",
       "PT                          LOCOMOÇÃO, ALIMENTAÇÃO E  HOSPEDAGEM   \n",
       "PTB                                                    TELEFONIA   \n",
       "PTC                         LOCOMOÇÃO, ALIMENTAÇÃO E  HOSPEDAGEM   \n",
       "PTdoB                                                  TELEFONIA   \n",
       "PV                          LOCOMOÇÃO, ALIMENTAÇÃO E  HOSPEDAGEM   \n",
       "REDE                                                   TELEFONIA   \n",
       "REPUBLICANOS                                           TELEFONIA   \n",
       "S.PART.        MANUTENÇÃO DE ESCRITÓRIO DE APOIO À ATIVIDADE ...   \n",
       "SD             MANUTENÇÃO DE ESCRITÓRIO DE APOIO À ATIVIDADE ...   \n",
       "SOLIDARIEDADE                                   PASSAGENS AÉREAS   \n",
       "test                                       Emissão Bilhete Aéreo   \n",
       "\n",
       "                                             txtFornecedor  vlrLiquido  \\\n",
       "sgPartido                                                                \n",
       "AVANTE                                         TNL PCS S.A      306.03   \n",
       "CIDADANIA                   GOL LINHAS AÉREAS INTELIGENTES      368.62   \n",
       "DEM                                       IMÓVEL FUNCIONAL       22.85   \n",
       "MDB                                      CELULAR FUNCIONAL      135.74   \n",
       "NOVO                        BELLER COMERCIO DE PAPEIS LTDA       37.71   \n",
       "PATRI                                 TAM LINHAS AREAS S/A      372.72   \n",
       "PATRIOTA                           TAM - LINHAS AÉREAS S/A      846.00   \n",
       "PCdoB                                     IMÓVEL FUNCIONAL      372.55   \n",
       "PDT                                       IMÓVEL FUNCIONAL      142.88   \n",
       "PEN            WM COMÉRCIO DE ARTIGOS DE PAPELARIA LTDA-ME      154.50   \n",
       "PHS                                       IMÓVEL FUNCIONAL        0.75   \n",
       "PL                                   VRG LINHAS AEREAS S.A      487.32   \n",
       "PMDB                                      IMÓVEL FUNCIONAL      220.46   \n",
       "PMN                                       IMÓVEL FUNCIONAL      772.17   \n",
       "PODE                                     CELULAR FUNCIONAL       98.23   \n",
       "PP                                         Cia Aérea - GOL      329.62   \n",
       "PP**                                              LAVACRED      156.01   \n",
       "PPL              WMS Comércio de Artigos de Papelaria LTDA      385.10   \n",
       "PPS                                       IMÓVEL FUNCIONAL       79.91   \n",
       "PR                                        IMÓVEL FUNCIONAL      171.43   \n",
       "PRB                                       IMÓVEL FUNCIONAL        9.65   \n",
       "PROS                            CENTRO EMPRESARIAL CASTELO      679.08   \n",
       "PRP                               CARIMBOS BRASIL LTDA. ME       60.00   \n",
       "PRTB                                      IMÓVEL FUNCIONAL      176.50   \n",
       "PSB                                       IMÓVEL FUNCIONAL      139.91   \n",
       "PSC                                       IMÓVEL FUNCIONAL      263.79   \n",
       "PSD                                                  RAMAL      106.38   \n",
       "PSDB                                      IMÓVEL FUNCIONAL       38.48   \n",
       "PSDC             KALUNGA COMERCIO E INDUSTRIA GRAFICA LTDA      736.00   \n",
       "PSL                                 ATACADO SÃO PAULO LTDA      493.24   \n",
       "PSOL                                         BAZAR M NORTE       81.50   \n",
       "PT                        NACIONAL TRANSPORTES E LOGISTICA     3800.00   \n",
       "PTB                                       IMÓVEL FUNCIONAL       80.01   \n",
       "PTC            GEODIDATICA  INDUSTRIA E COMERCIO LTDA - ME     7004.76   \n",
       "PTdoB                                     IMÓVEL FUNCIONAL      477.64   \n",
       "PV                                                 HIBISCO       11.90   \n",
       "REDE                                      IMÓVEL FUNCIONAL       36.45   \n",
       "REPUBLICANOS                             CELULAR FUNCIONAL      291.21   \n",
       "S.PART.                     CENTRAIS ELÉTRICAS DE RONDONIA       22.63   \n",
       "SD                         DIMAS VILELA DE OLIVEIRA JUNIOR     4000.00   \n",
       "SOLIDARIEDADE                                          TAM     1284.44   \n",
       "test                                       Cia Aérea - GOL     -334.42   \n",
       "\n",
       "               numMes  numAno  \n",
       "sgPartido                      \n",
       "AVANTE              1    2011  \n",
       "CIDADANIA           1    2011  \n",
       "DEM                12    2008  \n",
       "MDB                 2    2011  \n",
       "NOVO                4    2019  \n",
       "PATRI               1    2011  \n",
       "PATRIOTA            1    2011  \n",
       "PCdoB              12    2008  \n",
       "PDT                12    2008  \n",
       "PEN                 6    2013  \n",
       "PHS                12    2008  \n",
       "PL                  1    2011  \n",
       "PMDB               12    2008  \n",
       "PMN                12    2008  \n",
       "PODE                2    2011  \n",
       "PP                 10    2009  \n",
       "PP**               11    2008  \n",
       "PPL                 2    2015  \n",
       "PPS                12    2008  \n",
       "PR                 12    2008  \n",
       "PRB                12    2008  \n",
       "PROS                8    2011  \n",
       "PRP                 2    2011  \n",
       "PRTB                3    2009  \n",
       "PSB                12    2008  \n",
       "PSC                12    2008  \n",
       "PSD                 2    2011  \n",
       "PSDB                3    2008  \n",
       "PSDC                8    2014  \n",
       "PSL                 3    2015  \n",
       "PSOL                8    2009  \n",
       "PT                  6    2008  \n",
       "PTB                12    2008  \n",
       "PTC                12    2008  \n",
       "PTdoB              12    2008  \n",
       "PV                 11    2008  \n",
       "REDE                2    2015  \n",
       "REPUBLICANOS        2    2011  \n",
       "S.PART.             5    2011  \n",
       "SD                  4    2011  \n",
       "SOLIDARIEDADE       1    2011  \n",
       "test                7    2009  "
      ]
     },
     "execution_count": 8,
     "metadata": {},
     "output_type": "execute_result"
    }
   ],
   "source": [
    "a = filt.groupby([filt['sgPartido']])\n",
    "a.first()"
   ]
  },
  {
   "cell_type": "markdown",
   "metadata": {},
   "source": [
    "#### Total Gasto em todos os Anos."
   ]
  },
  {
   "cell_type": "code",
   "execution_count": 9,
   "metadata": {},
   "outputs": [
    {
     "data": {
      "text/plain": [
       "1978224588.5799997"
      ]
     },
     "execution_count": 9,
     "metadata": {},
     "output_type": "execute_result"
    }
   ],
   "source": [
    "filt['vlrLiquido'].sum()"
   ]
  },
  {
   "cell_type": "markdown",
   "metadata": {},
   "source": [
    "#### Total Gasto em todos os anos separadamente."
   ]
  },
  {
   "cell_type": "code",
   "execution_count": 15,
   "metadata": {},
   "outputs": [],
   "source": [
    "total2008 = g2008['vlrLiquido'].sum()\n",
    "total2009 = g2009['vlrLiquido'].sum()\n",
    "total2010 = g2010['vlrLiquido'].sum()\n",
    "total2011 = g2011['vlrLiquido'].sum()\n",
    "total2012 = g2012['vlrLiquido'].sum()\n",
    "total2013 = g2013['vlrLiquido'].sum()\n",
    "total2014 = g2014['vlrLiquido'].sum()\n",
    "total2015 = g2015['vlrLiquido'].sum()\n",
    "total2016 = g2016['vlrLiquido'].sum()\n",
    "total2017 = g2017['vlrLiquido'].sum()\n",
    "total2018 = g2018['vlrLiquido'].sum()\n",
    "total2019 = g2019['vlrLiquido'].sum()\n",
    "dic = {'2008':total2008,'2009':total2009,'2010':total2010,'2011':total2011,'2012':total2012,'2013':total2013,'2014':total2014,'2015':total2015,'2016':total2016,'2017':total2017,'2018':total2018,'2019':total2019}\n",
    "dic\n",
    "\n",
    "df = pd.DataFrame({'Gastos': [total2009, total2010, total2011, total2012,total2013,total2014,total2015,total2016,total2017,total2018,total2019]},\n",
    " index=['2009','2010', '2011','2012','2013','2014','2015','2016','2017','2018','2019'])"
   ]
  },
  {
   "cell_type": "code",
   "execution_count": 12,
   "metadata": {},
   "outputs": [
    {
     "data": {
      "text/plain": [
       "<matplotlib.axes._subplots.AxesSubplot at 0x27f9dde62c8>"
      ]
     },
     "execution_count": 12,
     "metadata": {},
     "output_type": "execute_result"
    },
    {
     "data": {
      "image/png": "[encoded data removed]",
      "text/plain": [
       "<Figure size 432x288 with 1 Axes>"
      ]
     },
     "metadata": {
      "needs_background": "light"
     },
     "output_type": "display_data"
    }
   ],
   "source": [
    "plt.title('Gastos dos Deputados,2009-2019')\n",
    "plt.xlabel('Ano')\n",
    "plt.ylabel('R$ em Bilhões')\n",
    "df['Gastos'].plot.bar()"
   ]
  },
  {
   "cell_type": "markdown",
   "metadata": {},
   "source": [
    "###### Podemos notar que de 2009 ate 2017 os gastos aumentarão significadamente e em 2018 houve um pouco menos de gastos.\n",
    "Obs: Os gastos de 2019 estão incompletos."
   ]
  },
  {
   "cell_type": "markdown",
   "metadata": {},
   "source": [
    "### Gastos mensais."
   ]
  },
  {
   "cell_type": "code",
   "execution_count": 24,
   "metadata": {
    "scrolled": true
   },
   "outputs": [
    {
     "data": {
      "text/plain": [
       "<matplotlib.axes._subplots.AxesSubplot at 0x27f9902a988>"
      ]
     },
     "execution_count": 24,
     "metadata": {},
     "output_type": "execute_result"
    },
    {
     "data": {
      "image/png": "[encoded data removed]",
      "text/plain": [
       "<Figure size 432x288 with 1 Axes>"
      ]
     },
     "metadata": {
      "needs_background": "light"
     },
     "output_type": "display_data"
    }
   ],
   "source": [
    "plt.title('Gastos dos Deputados,Jan-Dez/2009')\n",
    "plt.xlabel('Mês')\n",
    "plt.ylabel('R$ em Bilhões')\n",
    "soma_mes2009 = g2009.groupby(['numMes']).sum()['vlrLiquido']\n",
    "soma_mes2009.plot()"
   ]
  },
  {
   "cell_type": "code",
   "execution_count": 25,
   "metadata": {},
   "outputs": [
    {
     "data": {
      "text/plain": [
       "<matplotlib.axes._subplots.AxesSubplot at 0x27f9902abc8>"
      ]
     },
     "execution_count": 25,
     "metadata": {},
     "output_type": "execute_result"
    },
    {
     "data": {
      "image/png": "[encoded data removed]",
      "text/plain": [
       "<Figure size 432x288 with 1 Axes>"
      ]
     },
     "metadata": {
      "needs_background": "light"
     },
     "output_type": "display_data"
    }
   ],
   "source": [
    "plt.title('Gastos dos Deputados,Jan-Dez/2009')\n",
    "plt.xlabel('Mês')\n",
    "plt.ylabel('R$ em Bilhões')\n",
    "soma_mes2010 = g2010.groupby(['numMes']).sum()['vlrLiquido']\n",
    "soma_mes2010.plot()"
   ]
  },
  {
   "cell_type": "code",
   "execution_count": 27,
   "metadata": {},
   "outputs": [
    {
     "data": {
      "text/plain": [
       "<matplotlib.axes._subplots.AxesSubplot at 0x27f99163408>"
      ]
     },
     "execution_count": 27,
     "metadata": {},
     "output_type": "execute_result"
    },
    {
     "data": {
      "image/png": "[encoded data removed]",
      "text/plain": [
       "<Figure size 432x288 with 1 Axes>"
      ]
     },
     "metadata": {
      "needs_background": "light"
     },
     "output_type": "display_data"
    }
   ],
   "source": [
    "plt.title('Gastos dos Deputados,Jan-Dez/2009')\n",
    "plt.xlabel('Mês')\n",
    "plt.ylabel('R$ em Bilhões')\n",
    "soma_mes2011 = g2011.groupby(['numMes']).sum()['vlrLiquido']\n",
    "soma_mes2011.plot()"
   ]
  },
  {
   "cell_type": "code",
   "execution_count": 28,
   "metadata": {},
   "outputs": [
    {
     "data": {
      "text/plain": [
       "<matplotlib.axes._subplots.AxesSubplot at 0x27f991ca508>"
      ]
     },
     "execution_count": 28,
     "metadata": {},
     "output_type": "execute_result"
    },
    {
     "data": {
      "image/png": "[encoded data removed]",
      "text/plain": [
       "<Figure size 432x288 with 1 Axes>"
      ]
     },
     "metadata": {
      "needs_background": "light"
     },
     "output_type": "display_data"
    }
   ],
   "source": [
    "plt.title('Gastos dos Deputados,Jan-Dez/2009')\n",
    "plt.xlabel('Mês')\n",
    "plt.ylabel('R$ em Bilhões')\n",
    "soma_mes2012 = g2012.groupby(['numMes']).sum()['vlrLiquido']\n",
    "soma_mes2012.plot()"
   ]
  },
  {
   "cell_type": "code",
   "execution_count": 29,
   "metadata": {},
   "outputs": [
    {
     "data": {
      "text/plain": [
       "<matplotlib.axes._subplots.AxesSubplot at 0x27f9922ca48>"
      ]
     },
     "execution_count": 29,
     "metadata": {},
     "output_type": "execute_result"
    },
    {
     "data": {
      "image/png": "[encoded data removed]",
      "text/plain": [
       "<Figure size 432x288 with 1 Axes>"
      ]
     },
     "metadata": {
      "needs_background": "light"
     },
     "output_type": "display_data"
    }
   ],
   "source": [
    "plt.title('Gastos dos Deputados,Jan-Dez/2009')\n",
    "plt.xlabel('Mês')\n",
    "plt.ylabel('R$ em Bilhões')\n",
    "soma_mes2013 = g2013.groupby(['numMes']).sum()['vlrLiquido']\n",
    "soma_mes2013.plot()"
   ]
  },
  {
   "cell_type": "code",
   "execution_count": 30,
   "metadata": {},
   "outputs": [
    {
     "data": {
      "text/plain": [
       "<matplotlib.axes._subplots.AxesSubplot at 0x27f99293b88>"
      ]
     },
     "execution_count": 30,
     "metadata": {},
     "output_type": "execute_result"
    },
    {
     "data": {
      "image/png": "[encoded data removed]",
      "text/plain": [
       "<Figure size 432x288 with 1 Axes>"
      ]
     },
     "metadata": {
      "needs_background": "light"
     },
     "output_type": "display_data"
    }
   ],
   "source": [
    "plt.title('Gastos dos Deputados,Jan-Dez/2009')\n",
    "plt.xlabel('Mês')\n",
    "plt.ylabel('R$ em Bilhões')\n",
    "soma_mes2014 = g2014.groupby(['numMes']).sum()['vlrLiquido']\n",
    "soma_mes2014.plot()"
   ]
  },
  {
   "cell_type": "code",
   "execution_count": 31,
   "metadata": {},
   "outputs": [
    {
     "data": {
      "text/plain": [
       "<matplotlib.axes._subplots.AxesSubplot at 0x27f992ffd08>"
      ]
     },
     "execution_count": 31,
     "metadata": {},
     "output_type": "execute_result"
    },
    {
     "data": {
      "image/png": "[encoded data removed]",
      "text/plain": [
       "<Figure size 432x288 with 1 Axes>"
      ]
     },
     "metadata": {
      "needs_background": "light"
     },
     "output_type": "display_data"
    }
   ],
   "source": [
    "plt.title('Gastos dos Deputados,Jan-Dez/2009')\n",
    "plt.xlabel('Mês')\n",
    "plt.ylabel('R$ em Bilhões')\n",
    "soma_mes2015 = g2015.groupby(['numMes']).sum()['vlrLiquido']\n",
    "soma_mes2015.plot()"
   ]
  },
  {
   "cell_type": "code",
   "execution_count": 32,
   "metadata": {},
   "outputs": [
    {
     "data": {
      "text/plain": [
       "<matplotlib.axes._subplots.AxesSubplot at 0x27f99364b88>"
      ]
     },
     "execution_count": 32,
     "metadata": {},
     "output_type": "execute_result"
    },
    {
     "data": {
      "image/png": "[encoded data removed]",
      "text/plain": [
       "<Figure size 432x288 with 1 Axes>"
      ]
     },
     "metadata": {
      "needs_background": "light"
     },
     "output_type": "display_data"
    }
   ],
   "source": [
    "plt.title('Gastos dos Deputados,Jan-Dez/2009')\n",
    "plt.xlabel('Mês')\n",
    "plt.ylabel('R$ em Bilhões')\n",
    "soma_mes2016 = g2016.groupby(['numMes']).sum()['vlrLiquido']\n",
    "soma_mes2016.plot()"
   ]
  },
  {
   "cell_type": "code",
   "execution_count": 33,
   "metadata": {},
   "outputs": [
    {
     "data": {
      "text/plain": [
       "<matplotlib.axes._subplots.AxesSubplot at 0x27f993db188>"
      ]
     },
     "execution_count": 33,
     "metadata": {},
     "output_type": "execute_result"
    },
    {
     "data": {
      "image/png": "[encoded data removed]",
      "text/plain": [
       "<Figure size 432x288 with 1 Axes>"
      ]
     },
     "metadata": {
      "needs_background": "light"
     },
     "output_type": "display_data"
    }
   ],
   "source": [
    "plt.title('Gastos dos Deputados,Jan-Dez/2009')\n",
    "plt.xlabel('Mês')\n",
    "plt.ylabel('R$ em Bilhões')\n",
    "soma_mes2017 = g2017.groupby(['numMes']).sum()['vlrLiquido']\n",
    "soma_mes2017.plot()"
   ]
  },
  {
   "cell_type": "code",
   "execution_count": 34,
   "metadata": {},
   "outputs": [
    {
     "data": {
      "text/plain": [
       "<matplotlib.axes._subplots.AxesSubplot at 0x27f994383c8>"
      ]
     },
     "execution_count": 34,
     "metadata": {},
     "output_type": "execute_result"
    },
    {
     "data": {
      "image/png": "[encoded data removed]",
      "text/plain": [
       "<Figure size 432x288 with 1 Axes>"
      ]
     },
     "metadata": {
      "needs_background": "light"
     },
     "output_type": "display_data"
    }
   ],
   "source": [
    "plt.title('Gastos dos Deputados,Jan-Dez/2009')\n",
    "plt.xlabel('Mês')\n",
    "plt.ylabel('R$ em Bilhões')\n",
    "soma_mes2018 = g2018.groupby(['numMes']).sum()['vlrLiquido']\n",
    "soma_mes2018.plot()"
   ]
  },
  {
   "cell_type": "code",
   "execution_count": 35,
   "metadata": {},
   "outputs": [
    {
     "data": {
      "text/plain": [
       "<matplotlib.axes._subplots.AxesSubplot at 0x27f9949d448>"
      ]
     },
     "execution_count": 35,
     "metadata": {},
     "output_type": "execute_result"
    },
    {
     "data": {
      "image/png": "[encoded data removed]",
      "text/plain": [
       "<Figure size 432x288 with 1 Axes>"
      ]
     },
     "metadata": {
      "needs_background": "light"
     },
     "output_type": "display_data"
    }
   ],
   "source": [
    "plt.title('Gastos dos Deputados,Jan-Dez/2009')\n",
    "plt.xlabel('Mês')\n",
    "plt.ylabel('R$ em Bilhões')\n",
    "soma_mes2019 = g2019.groupby(['numMes']).sum()['vlrLiquido']\n",
    "soma_mes2019.plot()"
   ]
  },
  {
   "cell_type": "markdown",
   "metadata": {},
   "source": [
    "#### •Podemos notar que geralmente no fim do ano(Outubro - Dezembro), os gastos chegam ao seus valores máximos, e que no meio do ano(Abril - Agosto) os gastos tem uma redução em relação aos outros meses."
   ]
  },
  {
   "cell_type": "markdown",
   "metadata": {},
   "source": [
    "### Dados sobre com o que mais foi gasto em cada ano."
   ]
  },
  {
   "cell_type": "code",
   "execution_count": 36,
   "metadata": {},
   "outputs": [
    {
     "data": {
      "text/plain": [
       "'TELEFONIA'"
      ]
     },
     "execution_count": 36,
     "metadata": {},
     "output_type": "execute_result"
    }
   ],
   "source": [
    "g2008['txtDescricao'].value_counts().index[0]"
   ]
  },
  {
   "cell_type": "code",
   "execution_count": 37,
   "metadata": {},
   "outputs": [
    {
     "data": {
      "text/plain": [
       "'COMBUSTÍVEIS E LUBRIFICANTES.'"
      ]
     },
     "execution_count": 37,
     "metadata": {},
     "output_type": "execute_result"
    }
   ],
   "source": [
    "g2009['txtDescricao'].value_counts().index[0]"
   ]
  },
  {
   "cell_type": "code",
   "execution_count": 38,
   "metadata": {},
   "outputs": [
    {
     "data": {
      "text/plain": [
       "'COMBUSTÍVEIS E LUBRIFICANTES.'"
      ]
     },
     "execution_count": 38,
     "metadata": {},
     "output_type": "execute_result"
    }
   ],
   "source": [
    "g2010['txtDescricao'].value_counts().index[0]"
   ]
  },
  {
   "cell_type": "code",
   "execution_count": 39,
   "metadata": {},
   "outputs": [
    {
     "data": {
      "text/plain": [
       "'Emissão Bilhete Aéreo'"
      ]
     },
     "execution_count": 39,
     "metadata": {},
     "output_type": "execute_result"
    }
   ],
   "source": [
    "g2011['txtDescricao'].value_counts().index[0]"
   ]
  },
  {
   "cell_type": "code",
   "execution_count": 40,
   "metadata": {},
   "outputs": [
    {
     "data": {
      "text/plain": [
       "'Emissão Bilhete Aéreo'"
      ]
     },
     "execution_count": 40,
     "metadata": {},
     "output_type": "execute_result"
    }
   ],
   "source": [
    "g2012['txtDescricao'].value_counts().index[0]"
   ]
  },
  {
   "cell_type": "code",
   "execution_count": 41,
   "metadata": {},
   "outputs": [
    {
     "data": {
      "text/plain": [
       "'Emissão Bilhete Aéreo'"
      ]
     },
     "execution_count": 41,
     "metadata": {},
     "output_type": "execute_result"
    }
   ],
   "source": [
    "g2013['txtDescricao'].value_counts().index[0]"
   ]
  },
  {
   "cell_type": "code",
   "execution_count": 42,
   "metadata": {},
   "outputs": [
    {
     "data": {
      "text/plain": [
       "'Emissão Bilhete Aéreo'"
      ]
     },
     "execution_count": 42,
     "metadata": {},
     "output_type": "execute_result"
    }
   ],
   "source": [
    "g2014['txtDescricao'].value_counts().index[0]"
   ]
  },
  {
   "cell_type": "code",
   "execution_count": 43,
   "metadata": {},
   "outputs": [
    {
     "data": {
      "text/plain": [
       "'Emissão Bilhete Aéreo'"
      ]
     },
     "execution_count": 43,
     "metadata": {},
     "output_type": "execute_result"
    }
   ],
   "source": [
    "g2015['txtDescricao'].value_counts().index[0]"
   ]
  },
  {
   "cell_type": "code",
   "execution_count": 44,
   "metadata": {},
   "outputs": [
    {
     "data": {
      "text/plain": [
       "'Emissão Bilhete Aéreo'"
      ]
     },
     "execution_count": 44,
     "metadata": {},
     "output_type": "execute_result"
    }
   ],
   "source": [
    "g2016['txtDescricao'].value_counts().index[0]"
   ]
  },
  {
   "cell_type": "code",
   "execution_count": 51,
   "metadata": {},
   "outputs": [
    {
     "data": {
      "text/plain": [
       "'Emissão Bilhete Aéreo'"
      ]
     },
     "execution_count": 51,
     "metadata": {},
     "output_type": "execute_result"
    }
   ],
   "source": [
    "g2017['txtDescricao'].value_counts().index[0]"
   ]
  },
  {
   "cell_type": "code",
   "execution_count": 53,
   "metadata": {},
   "outputs": [
    {
     "data": {
      "text/plain": [
       "'Emissão Bilhete Aéreo'"
      ]
     },
     "execution_count": 53,
     "metadata": {},
     "output_type": "execute_result"
    }
   ],
   "source": [
    "g2018['txtDescricao'].value_counts().index[0]"
   ]
  },
  {
   "cell_type": "code",
   "execution_count": 47,
   "metadata": {},
   "outputs": [
    {
     "data": {
      "text/plain": [
       "'COMBUSTÍVEIS E LUBRIFICANTES.'"
      ]
     },
     "execution_count": 47,
     "metadata": {},
     "output_type": "execute_result"
    }
   ],
   "source": [
    "g2019['txtDescricao'].value_counts().index[0]"
   ]
  },
  {
   "cell_type": "markdown",
   "metadata": {},
   "source": [
    "#### Na maioria dos anos o que mais se provoca gastos são emissões de bilhetes aéreos."
   ]
  },
  {
   "cell_type": "code",
   "execution_count": null,
   "metadata": {},
   "outputs": [],
   "source": []
  }
 ],
 "metadata": {
  "kernelspec": {
   "display_name": "Python 3",
   "language": "python",
   "name": "python3"
  },
  "language_info": {
   "codemirror_mode": {
    "name": "ipython",
    "version": 3
   },
   "file_extension": ".py",
   "mimetype": "text/x-python",
   "name": "python",
   "nbconvert_exporter": "python",
   "pygments_lexer": "ipython3",
   "version": "3.7.4"
  }
 },
 "nbformat": 4,
 "nbformat_minor": 2
}
